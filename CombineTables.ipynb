{
 "cells": [
  {
   "cell_type": "code",
   "execution_count": 23,
   "metadata": {},
   "outputs": [],
   "source": [
    "import pandas as pd\n",
    "import requests\n",
    "import json"
   ]
  },
  {
   "cell_type": "code",
   "execution_count": 39,
   "metadata": {},
   "outputs": [],
   "source": [
    "ICUBeds = pd.read_csv(\"ICUsByCounty.csv\") "
   ]
  },
  {
   "cell_type": "code",
   "execution_count": 40,
   "metadata": {},
   "outputs": [
    {
     "data": {
      "text/html": [
       "<div>\n",
       "<style scoped>\n",
       "    .dataframe tbody tr th:only-of-type {\n",
       "        vertical-align: middle;\n",
       "    }\n",
       "\n",
       "    .dataframe tbody tr th {\n",
       "        vertical-align: top;\n",
       "    }\n",
       "\n",
       "    .dataframe thead th {\n",
       "        text-align: right;\n",
       "    }\n",
       "</style>\n",
       "<table border=\"1\" class=\"dataframe\">\n",
       "  <thead>\n",
       "    <tr style=\"text-align: right;\">\n",
       "      <th></th>\n",
       "      <th>State</th>\n",
       "      <th>County</th>\n",
       "      <th>ICU Beds</th>\n",
       "      <th>Total Population</th>\n",
       "      <th>Population Aged 60+</th>\n",
       "      <th>Percent of Population Aged 60+</th>\n",
       "      <th>Residents Aged 60+ Per Each ICU Bed</th>\n",
       "    </tr>\n",
       "  </thead>\n",
       "  <tbody>\n",
       "    <tr>\n",
       "      <th>0</th>\n",
       "      <td>Alabama</td>\n",
       "      <td>Autauga</td>\n",
       "      <td>6</td>\n",
       "      <td>55036</td>\n",
       "      <td>10523</td>\n",
       "      <td>19.1</td>\n",
       "      <td>1754.0</td>\n",
       "    </tr>\n",
       "    <tr>\n",
       "      <th>1</th>\n",
       "      <td>Alabama</td>\n",
       "      <td>Baldwin</td>\n",
       "      <td>51</td>\n",
       "      <td>203360</td>\n",
       "      <td>53519</td>\n",
       "      <td>26.3</td>\n",
       "      <td>1049.0</td>\n",
       "    </tr>\n",
       "    <tr>\n",
       "      <th>2</th>\n",
       "      <td>Alabama</td>\n",
       "      <td>Barbour</td>\n",
       "      <td>5</td>\n",
       "      <td>26201</td>\n",
       "      <td>6150</td>\n",
       "      <td>23.5</td>\n",
       "      <td>1230.0</td>\n",
       "    </tr>\n",
       "    <tr>\n",
       "      <th>3</th>\n",
       "      <td>Alabama</td>\n",
       "      <td>Bibb</td>\n",
       "      <td>0</td>\n",
       "      <td>22580</td>\n",
       "      <td>4773</td>\n",
       "      <td>21.1</td>\n",
       "      <td>NaN</td>\n",
       "    </tr>\n",
       "    <tr>\n",
       "      <th>4</th>\n",
       "      <td>Alabama</td>\n",
       "      <td>Blount</td>\n",
       "      <td>6</td>\n",
       "      <td>57667</td>\n",
       "      <td>13600</td>\n",
       "      <td>23.6</td>\n",
       "      <td>2267.0</td>\n",
       "    </tr>\n",
       "  </tbody>\n",
       "</table>\n",
       "</div>"
      ],
      "text/plain": [
       "     State   County  ICU Beds  Total Population  Population Aged 60+  \\\n",
       "0  Alabama  Autauga         6             55036                10523   \n",
       "1  Alabama  Baldwin        51            203360                53519   \n",
       "2  Alabama  Barbour         5             26201                 6150   \n",
       "3  Alabama     Bibb         0             22580                 4773   \n",
       "4  Alabama   Blount         6             57667                13600   \n",
       "\n",
       "   Percent of Population Aged 60+  Residents Aged 60+ Per Each ICU Bed  \n",
       "0                            19.1                               1754.0  \n",
       "1                            26.3                               1049.0  \n",
       "2                            23.5                               1230.0  \n",
       "3                            21.1                                  NaN  \n",
       "4                            23.6                               2267.0  "
      ]
     },
     "execution_count": 40,
     "metadata": {},
     "output_type": "execute_result"
    }
   ],
   "source": [
    "ICUBeds.head()"
   ]
  },
  {
   "cell_type": "code",
   "execution_count": 152,
   "metadata": {},
   "outputs": [],
   "source": [
    "api_response = requests.get('https://services1.arcgis.com/Hp6G80Pky0om7QvQ/arcgis/rest/services/Hospitals_1/FeatureServer/0/query?where=1%3D1&outFields=*&outSR=4326&f=json&resultRecordCount=2000')\n",
    "hospitals = pd.json_normalize(api_response.json()['features'])\n",
    "df_length = len(hospitals)\n",
    "api_target = 'https://services1.arcgis.com/Hp6G80Pky0om7QvQ/arcgis/rest/services/Hospitals_1/FeatureServer/0/query?where=1%3D1&outFields=*&outSR=4326&f=json&resultRecordCount=2000'\n",
    "\n",
    "while True:\n",
    "    api_response = requests.get(api_target+'&resultOffset='+str(df_length))\n",
    "    new = pd.json_normalize(api_response.json()['features'])\n",
    "    hospitals = hospitals.append(new)\n",
    "    if (df_length == len(hospitals)):\n",
    "        break\n",
    "    df_length = len(hospitals)"
   ]
  },
  {
   "cell_type": "code",
   "execution_count": 153,
   "metadata": {},
   "outputs": [
    {
     "data": {
      "text/plain": [
       "7581"
      ]
     },
     "execution_count": 153,
     "metadata": {},
     "output_type": "execute_result"
    }
   ],
   "source": [
    "len(hospitals)"
   ]
  },
  {
   "cell_type": "code",
   "execution_count": 154,
   "metadata": {},
   "outputs": [
    {
     "data": {
      "text/plain": [
       "3142"
      ]
     },
     "execution_count": 154,
     "metadata": {},
     "output_type": "execute_result"
    }
   ],
   "source": [
    "len(ICUBeds)"
   ]
  },
  {
   "cell_type": "code",
   "execution_count": 183,
   "metadata": {},
   "outputs": [
    {
     "data": {
      "text/plain": [
       "State                                  AlabamaAlabamaAlabamaAlabamaAlabamaAlabamaAlab...\n",
       "County                                 AutaugaBaldwinBarbourBibbBlountBullockButlerCa...\n",
       "ICU Beds                                                                           74787\n",
       "Total Population                                                               321004407\n",
       "Population Aged 60+                                                             66956449\n",
       "Percent of Population Aged 60+                                                   77708.3\n",
       "Residents Aged 60+ Per Each ICU Bed                                          1.91815e+06\n",
       "lowercase                              autaugabaldwinbarbourbibbblountbullockbutlerca...\n",
       "dtype: object"
      ]
     },
     "execution_count": 183,
     "metadata": {},
     "output_type": "execute_result"
    }
   ],
   "source": [
    "ICUBeds.sum()"
   ]
  },
  {
   "cell_type": "code",
   "execution_count": 155,
   "metadata": {},
   "outputs": [],
   "source": [
    "hospitals = hospitals.rename(columns = {'attributes.BEDS': 'Hospital Beds', 'attributes.COUNTY': 'County'})"
   ]
  },
  {
   "cell_type": "code",
   "execution_count": 182,
   "metadata": {},
   "outputs": [
    {
     "data": {
      "text/plain": [
       "attributes.OBJECTID                                               28739571\n",
       "attributes.ID            0005793230005339136200111900230017090028002369...\n",
       "attributes.NAME          CENTRAL VALLEY GENERAL HOSPITALLOS ROBLES HOSP...\n",
       "attributes.ADDRESS       1025 NORTH DOUTY STREET150 VIA MERIDA4060 WHIT...\n",
       "attributes.CITY          HANFORDWESTLAKE VILAGELOS ANGELESHOLLYWOODBALD...\n",
       "attributes.STATE         CACACACACACACACACACACACACACACACACACAGAGALALALA...\n",
       "attributes.ZIP           9323091362900239002891706907129101691754905059...\n",
       "attributes.ZIP4          NOT AVAILABLENOT AVAILABLENOT AVAILABLENOT AVA...\n",
       "attributes.TELEPHONE     NOT AVAILABLENOT AVAILABLENOT AVAILABLE(323) 4...\n",
       "attributes.TYPE          GENERAL ACUTE CAREGENERAL ACUTE CAREGENERAL AC...\n",
       "attributes.STATUS        CLOSEDOPENOPENOPENOPENOPENOPENOPENOPENOPENOPEN...\n",
       "attributes.POPULATION                                               308361\n",
       "County                   KINGSVENTURALOS ANGELESLOS ANGELESLOS ANGELESL...\n",
       "attributes.COUNTYFIPS    0603106111060370603706037060370603706037060370...\n",
       "attributes.COUNTRY       USAUSAUSAUSAUSAUSAUSAUSAUSAUSAUSAUSAUSAUSAUSAU...\n",
       "attributes.LATITUDE                                                 282985\n",
       "attributes.LONGITUDE                                               -700166\n",
       "attributes.NAICS_CODE    6221106221106221106221106221106221106221106221...\n",
       "attributes.NAICS_DESC    GENERAL MEDICAL AND SURGICAL HOSPITALSGENERAL ...\n",
       "attributes.SOURCE        http://www.oshpd.ca.gov/HID/Facility-Listing.h...\n",
       "attributes.SOURCEDATE                                    11573408217600000\n",
       "attributes.VAL_METHOD    IMAGERY/OTHERIMAGERY/OTHERIMAGERY/OTHERIMAGERY...\n",
       "attributes.VAL_DATE                                      10677461040000000\n",
       "attributes.WEBSITE       http://www.hanfordhealth.comhttp://www.losrobl...\n",
       "attributes.STATE_ID      NOT AVAILABLENOT AVAILABLENOT AVAILABLENOT AVA...\n",
       "attributes.ALT_NAME      NOT AVAILABLENOT AVAILABLENOT AVAILABLEHOLLYWO...\n",
       "attributes.ST_FIPS       0606060606060606060606060606060606061313222222...\n",
       "attributes.OWNER         PROPRIETARYPROPRIETARYPROPRIETARYPROPRIETARYPR...\n",
       "attributes.TTL_STAFF                                              -7573419\n",
       "Hospital Beds                                                       352772\n",
       "attributes.TRAUMA        NOT AVAILABLENOT AVAILABLENOT AVAILABLENOT AVA...\n",
       "attributes.HELIPAD       NNNNNNNNNNYNNNNNNNNYYNNYNNYNNNNNNNNYNNYNNYNYNY...\n",
       "geometry.x                                                         -700166\n",
       "geometry.y                                                          282985\n",
       "dtype: object"
      ]
     },
     "execution_count": 182,
     "metadata": {},
     "output_type": "execute_result"
    }
   ],
   "source": [
    "hospitals.sum()"
   ]
  },
  {
   "cell_type": "code",
   "execution_count": 196,
   "metadata": {},
   "outputs": [],
   "source": [
    "beds = hospitals[['County', 'Hospital Beds']].groupby('County').sum()"
   ]
  },
  {
   "cell_type": "code",
   "execution_count": 198,
   "metadata": {},
   "outputs": [],
   "source": [
    "beds = beds.assign(lowercase=lambda df: df.index.str.lower())\n",
    "ICUBeds = ICUBeds.assign(lowercase=lambda df: df.County.str.lower())"
   ]
  },
  {
   "cell_type": "code",
   "execution_count": 214,
   "metadata": {},
   "outputs": [],
   "source": [
    "result = ICUBeds.merge(beds, how='left', on='lowercase')"
   ]
  },
  {
   "cell_type": "code",
   "execution_count": 217,
   "metadata": {},
   "outputs": [],
   "source": [
    "result = result.drop('lowercase', axis=1)"
   ]
  },
  {
   "cell_type": "code",
   "execution_count": 219,
   "metadata": {},
   "outputs": [],
   "source": [
    "result.to_csv('HospitalAndICUBeds.csv')"
   ]
  },
  {
   "cell_type": "code",
   "execution_count": null,
   "metadata": {},
   "outputs": [],
   "source": []
  }
 ],
 "metadata": {
  "kernelspec": {
   "display_name": "Python 3",
   "language": "python",
   "name": "python3"
  },
  "language_info": {
   "codemirror_mode": {
    "name": "ipython",
    "version": 3
   },
   "file_extension": ".py",
   "mimetype": "text/x-python",
   "name": "python",
   "nbconvert_exporter": "python",
   "pygments_lexer": "ipython3",
   "version": "3.7.7"
  }
 },
 "nbformat": 4,
 "nbformat_minor": 2
}
